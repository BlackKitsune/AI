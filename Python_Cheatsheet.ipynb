{
 "cells": [
  {
   "cell_type": "markdown",
   "id": "4b8932da-0525-4d8e-878e-64cb2d652f13",
   "metadata": {},
   "source": [
    "# Python Cheatsheet"
   ]
  },
  {
   "cell_type": "markdown",
   "id": "d4462626-7cb0-4956-8541-9b8405c0db92",
   "metadata": {},
   "source": [
    "This is a quick reference guide for Python programming. It covers essential topics to enhace Python proficiency."
   ]
  },
  {
   "cell_type": "markdown",
   "id": "f57d220a-76c2-45d7-949f-183fd469eab7",
   "metadata": {},
   "source": [
    "## 1. Data Types"
   ]
  },
  {
   "cell_type": "code",
   "execution_count": 1,
   "id": "e89df78b-2c66-422d-877d-9b005d60fb64",
   "metadata": {},
   "outputs": [],
   "source": [
    "int_num = 42\n",
    "float_num = 3.14\n",
    "string_var = \"Hello, Python!\"\n",
    "bool_var = True"
   ]
  },
  {
   "cell_type": "markdown",
   "id": "484e7665-498f-46d9-902b-d95dac668ebd",
   "metadata": {},
   "source": [
    "## 2. Variables and Assignment"
   ]
  },
  {
   "cell_type": "code",
   "execution_count": 2,
   "id": "dd21206c-464c-475c-baee-fda0017fdc8d",
   "metadata": {},
   "outputs": [],
   "source": [
    "x = 10\n",
    "y = \"Python\""
   ]
  },
  {
   "cell_type": "markdown",
   "id": "d32db68d-7b1a-4d6e-a5e2-3e937dbbd06e",
   "metadata": {},
   "source": [
    "## 3. List and Tuples"
   ]
  },
  {
   "cell_type": "code",
   "execution_count": 3,
   "id": "04bf4651-c0fd-48e8-b3ca-406253473006",
   "metadata": {},
   "outputs": [],
   "source": [
    "my_list = [1, 2, 3, \"Python\"]\n",
    "my_tuple = (1, 2, 2, \"Tuple\")"
   ]
  },
  {
   "cell_type": "markdown",
   "id": "561ec769-4bc7-4792-8580-2ceba0f0bd2e",
   "metadata": {},
   "source": [
    "## 4. Dictionaries"
   ]
  },
  {
   "cell_type": "code",
   "execution_count": 4,
   "id": "064dc06c-7a0d-46a8-8e69-a2839ff4439a",
   "metadata": {},
   "outputs": [],
   "source": [
    "my_dict = {'name': 'John', 'age': 25, 'city': 'Pythonville'}"
   ]
  },
  {
   "cell_type": "markdown",
   "id": "8b4d2562-4a43-4af8-b748-f932e54e7fcb",
   "metadata": {},
   "source": [
    "## 5. Control Flow"
   ]
  },
  {
   "cell_type": "code",
   "execution_count": 5,
   "id": "3aa897d4-aaaa-4cbd-88e2-d062bf23f39a",
   "metadata": {},
   "outputs": [
    {
     "name": "stdout",
     "output_type": "stream",
     "text": [
      "Positive\n",
      "1\n",
      "2\n",
      "3\n",
      "Python\n"
     ]
    }
   ],
   "source": [
    "if x > 0:\n",
    "    print(\"Positive\")\n",
    "elif x == 0:\n",
    "    print(\"Zero\")\n",
    "else:\n",
    "    print(\"Negative\")\n",
    "\n",
    "for item in my_list:\n",
    "    print(item)\n",
    "\n",
    "# while condition:\n",
    "    # code"
   ]
  },
  {
   "cell_type": "markdown",
   "id": "e1e2208a-17e1-47a5-8a6c-4df6f1b4b8cf",
   "metadata": {},
   "source": [
    "## 6. Functions"
   ]
  },
  {
   "cell_type": "code",
   "execution_count": 6,
   "id": "f57ca887-c30a-440e-b24c-bdbcb519f26b",
   "metadata": {},
   "outputs": [
    {
     "data": {
      "text/plain": [
       "'Hello, John!'"
      ]
     },
     "execution_count": 6,
     "metadata": {},
     "output_type": "execute_result"
    }
   ],
   "source": [
    "def greet(name = \"User\"):\n",
    "    return f\"Hello, {name}!\"\n",
    "\n",
    "result = greet(\"John\")\n",
    "result"
   ]
  },
  {
   "cell_type": "markdown",
   "id": "d7dac10e-656b-4333-b4b7-67235b74e61a",
   "metadata": {},
   "source": [
    "## 7. Classes and Objects"
   ]
  },
  {
   "cell_type": "code",
   "execution_count": 7,
   "id": "5966a4ef-3117-45c6-ac35-fe6cae64b79b",
   "metadata": {},
   "outputs": [
    {
     "name": "stdout",
     "output_type": "stream",
     "text": [
      "Woof!\n"
     ]
    }
   ],
   "source": [
    "class Dog:\n",
    "    def __init__(self, name):\n",
    "        self.name = name\n",
    "    def bark(self):\n",
    "        print(\"Woof!\")\n",
    "\n",
    "my_dog = Dog(\"Buddy\")\n",
    "my_dog.bark()"
   ]
  },
  {
   "cell_type": "markdown",
   "id": "636f2a98-289a-4dbb-a641-5a454c5a3ba5",
   "metadata": {},
   "source": [
    "## 8. File Handling"
   ]
  },
  {
   "cell_type": "code",
   "execution_count": 8,
   "id": "a0cb5a1c-47d7-425d-90d4-a82f2a0bcf5c",
   "metadata": {},
   "outputs": [
    {
     "data": {
      "text/plain": [
       "'Hello, Python!'"
      ]
     },
     "execution_count": 8,
     "metadata": {},
     "output_type": "execute_result"
    }
   ],
   "source": [
    "with open(\"file.txt\", \"w\") as new_file:\n",
    "    new_file.write(\"Hello, Python!\")\n",
    "\n",
    "with open(\"file.txt\", \"r\") as file:\n",
    "    content = file.read()\n",
    "\n",
    "content"
   ]
  },
  {
   "cell_type": "markdown",
   "id": "4212ccb5-2dca-4b4c-9bed-ed7d589e9212",
   "metadata": {},
   "source": [
    "## 9. Exception Handling"
   ]
  },
  {
   "cell_type": "code",
   "execution_count": 9,
   "id": "8dd0e261-c3ed-4890-b1b6-95114ec0ee8e",
   "metadata": {},
   "outputs": [
    {
     "name": "stdout",
     "output_type": "stream",
     "text": [
      "Cannot divide by zero!\n",
      "Execution completed.\n"
     ]
    }
   ],
   "source": [
    "try:\n",
    "    result = 10 / 0\n",
    "except ZeroDivisionError:\n",
    "    print(\"Cannot divide by zero!\")\n",
    "finally:\n",
    "    print(\"Execution completed.\")"
   ]
  },
  {
   "cell_type": "markdown",
   "id": "5b1c87d7-ccd4-4da9-8dda-d0b49c8e22dd",
   "metadata": {},
   "source": [
    "## 10. Libraries and Modules"
   ]
  },
  {
   "cell_type": "code",
   "execution_count": 10,
   "id": "4a2e48a2-a44f-4112-bee1-40846f1c474d",
   "metadata": {},
   "outputs": [
    {
     "name": "stdout",
     "output_type": "stream",
     "text": [
      "5.0\n",
      "2024-09-16 09:37:25.729758\n"
     ]
    }
   ],
   "source": [
    "import math\n",
    "from datetime import datetime as dt\n",
    "\n",
    "result = math.sqrt(25)\n",
    "current_time = dt.now()\n",
    "\n",
    "print(result)\n",
    "print(current_time)"
   ]
  },
  {
   "cell_type": "markdown",
   "id": "3ab09eb0-f053-40a8-9a65-466f3d095a21",
   "metadata": {},
   "source": [
    "## 11. List comprehensions"
   ]
  },
  {
   "cell_type": "code",
   "execution_count": 11,
   "id": "d56f0ecd-0ad4-4b46-ade6-8e67e4c2df87",
   "metadata": {},
   "outputs": [
    {
     "data": {
      "text/plain": [
       "[0, 1, 4, 9, 16]"
      ]
     },
     "execution_count": 11,
     "metadata": {},
     "output_type": "execute_result"
    }
   ],
   "source": [
    "squares = [x**2 for x in range(5)]\n",
    "squares"
   ]
  },
  {
   "cell_type": "markdown",
   "id": "a5d3ac5d-ab81-42f3-b8cc-5f343cf67291",
   "metadata": {},
   "source": [
    "## 12. Lambda Functions"
   ]
  },
  {
   "cell_type": "code",
   "execution_count": 12,
   "id": "7d4fc840-433b-4d31-95dc-c8c2864116ae",
   "metadata": {},
   "outputs": [
    {
     "data": {
      "text/plain": [
       "5"
      ]
     },
     "execution_count": 12,
     "metadata": {},
     "output_type": "execute_result"
    }
   ],
   "source": [
    "add = lambda x, y: x + y\n",
    "result = add(2, 3)\n",
    "\n",
    "result"
   ]
  },
  {
   "cell_type": "markdown",
   "id": "2c76913d-2516-4b8d-aa34-58692e3129f0",
   "metadata": {},
   "source": [
    "## 13. Virtual Environment"
   ]
  },
  {
   "cell_type": "code",
   "execution_count": 13,
   "id": "20aecc88-77ce-46d0-97b8-9a354d4a19ea",
   "metadata": {},
   "outputs": [],
   "source": [
    "## Create a virtual environment\n",
    "# python -m venv myenv\n",
    "\n",
    "## Activate the virtual environment\n",
    "# source myenv/bin/activate # On Unix or MacOS\n",
    "# myenv\\Scripts\\activate    # On Windows\n",
    "\n",
    "# Deactivate the virtual environment\n",
    "# deactivate"
   ]
  },
  {
   "cell_type": "markdown",
   "id": "30bc3b2c-965a-45c3-a2c1-2a129417043f",
   "metadata": {},
   "source": [
    "## 14. Package management"
   ]
  },
  {
   "cell_type": "code",
   "execution_count": 14,
   "id": "c1ab7887-0782-4215-90c5-04cb14050265",
   "metadata": {},
   "outputs": [],
   "source": [
    "## Install a package\n",
    "# pip install package_name\n",
    "\n",
    "## List installed packages\n",
    "# pip list\n",
    "\n",
    "## Create requirements.txt\n",
    "# pip freeze > requirements.txt\n",
    "\n",
    "## Install packages from requirements.txt\n",
    "# pip install -r requirements.txt"
   ]
  },
  {
   "cell_type": "markdown",
   "id": "4be71497-4748-499d-a0c0-be3097d02726",
   "metadata": {},
   "source": [
    "## 15. Working with JSON"
   ]
  },
  {
   "cell_type": "code",
   "execution_count": 15,
   "id": "19155886-874a-4686-8ba3-c5b58e3f7d93",
   "metadata": {},
   "outputs": [
    {
     "data": {
      "text/plain": [
       "{'name': 'John', 'age': 25}"
      ]
     },
     "execution_count": 15,
     "metadata": {},
     "output_type": "execute_result"
    }
   ],
   "source": [
    "import json\n",
    "\n",
    "# Convert Python object to JSON\n",
    "json_data = json.dumps({'name':'John', 'age':25})\n",
    "\n",
    "# Convert JSON to python object\n",
    "python_obj = json.loads(json_data)\n",
    "\n",
    "python_obj"
   ]
  },
  {
   "cell_type": "markdown",
   "id": "70e989ca-8c00-4c1d-ab69-042ca571d31c",
   "metadata": {},
   "source": [
    "## 16. Regular expressions"
   ]
  },
  {
   "cell_type": "code",
   "execution_count": 16,
   "id": "697203eb-955f-4054-bff0-7a69aab70b44",
   "metadata": {},
   "outputs": [],
   "source": [
    "import re\n",
    "pattern = r'\\d+' # Match one or more digits\n",
    "result = re.findall(pattern, \"There are 42 apples and 123 oranges.\")"
   ]
  },
  {
   "cell_type": "markdown",
   "id": "bc0b1c5e-fe32-4062-84bd-7b65da26d5a5",
   "metadata": {},
   "source": [
    "## 17. Working with dates"
   ]
  },
  {
   "cell_type": "code",
   "execution_count": 62,
   "id": "dbd67f69-a65a-4aa3-988e-d28f231b218b",
   "metadata": {},
   "outputs": [
    {
     "name": "stdout",
     "output_type": "stream",
     "text": [
      "2024-09-23 10:23:39.371473\n",
      "2024-09-16 10:23:39\n"
     ]
    }
   ],
   "source": [
    "from datetime import datetime, timedelta\n",
    "current_date = datetime.now()\n",
    "future_date = current_date + timedelta(days=7)\n",
    "\n",
    "formatted_date = current_date.strftime('%Y-%m-%d %H:%M:%S')\n",
    "\n",
    "print(future_date)\n",
    "print(formatted_date)"
   ]
  },
  {
   "cell_type": "markdown",
   "id": "6c43bd18-b56a-4b85-bc98-3d937f09b196",
   "metadata": {},
   "source": [
    "## 18. List manipulations"
   ]
  },
  {
   "cell_type": "code",
   "execution_count": 20,
   "id": "4d0aaa67-d479-4a39-88df-25dab4228ad5",
   "metadata": {},
   "outputs": [
    {
     "name": "stdout",
     "output_type": "stream",
     "text": [
      "[2, 4]\n",
      "[1, 4, 9, 16, 25]\n",
      "120\n"
     ]
    }
   ],
   "source": [
    "numbers = [1, 2, 3, 4, 5]\n",
    "\n",
    "# Filter\n",
    "evens = list(filter(lambda x: x% 2 == 0, numbers))\n",
    "\n",
    "# Maps\n",
    "squared = list(map(lambda x: x**2, numbers))\n",
    "\n",
    "# Reduce (requires functools)\n",
    "from functools import reduce\n",
    "product = reduce(lambda x, y: x * y, numbers)\n",
    "\n",
    "print(evens)\n",
    "print(squared)\n",
    "print(product)"
   ]
  },
  {
   "cell_type": "markdown",
   "id": "b86c95db-49c3-4f93-b0c7-b206e1aa487e",
   "metadata": {},
   "source": [
    "## 19. Dictionary Maniputations"
   ]
  },
  {
   "cell_type": "code",
   "execution_count": 23,
   "id": "34919460-02fe-49a6-aa70-054c27f76fa6",
   "metadata": {},
   "outputs": [
    {
     "name": "stdout",
     "output_type": "stream",
     "text": [
      "{'a': 1, 'b': 2, 'c': 3}\n",
      "0\n",
      "{'a': 1, 'b': 4, 'c': 9}\n"
     ]
    }
   ],
   "source": [
    "my_dict = {'a': 1, 'b': 2, 'c': 3}\n",
    "\n",
    "# Get vaue with default\n",
    "value = my_dict.get('d', 0)\n",
    "\n",
    "# Dictionary comprehension\n",
    "squared_dict = {key: value**2 for key, value in my_dict.items()}\n",
    "\n",
    "print(my_dict)\n",
    "print(value)\n",
    "print(squared_dict)"
   ]
  },
  {
   "cell_type": "markdown",
   "id": "20001e17-8ddb-4df9-a30e-2792864b3df0",
   "metadata": {},
   "source": [
    "## 20. Concurrency with Threading"
   ]
  },
  {
   "cell_type": "code",
   "execution_count": 25,
   "id": "7eb07a9c-6ad1-48ac-bd3c-fb93f28bf490",
   "metadata": {},
   "outputs": [
    {
     "name": "stdout",
     "output_type": "stream",
     "text": [
      "0\n",
      "1\n",
      "2\n",
      "3\n",
      "4\n"
     ]
    }
   ],
   "source": [
    "import threading\n",
    "\n",
    "def print_numbers():\n",
    "    for i in range(5):\n",
    "        print(i)\n",
    "\n",
    "thread = threading.Thread(target=print_numbers)\n",
    "thread.start()"
   ]
  },
  {
   "cell_type": "markdown",
   "id": "3dd53dc4-9e63-4b19-8ace-edcaaf0820f0",
   "metadata": {},
   "source": [
    "## 21. Concurrency with Asyncio"
   ]
  },
  {
   "cell_type": "code",
   "execution_count": 29,
   "id": "ac0b664f-ff3c-4ba3-b5dd-ec8eeee5c1ab",
   "metadata": {},
   "outputs": [],
   "source": [
    "import asyncio\n",
    "\n",
    "async def print_numbers():\n",
    "    for i in range(5):\n",
    "        print(i)\n",
    "        await asyncio.sleep(1)\n",
    "        \n",
    "#asyncio.run(print_numbers())"
   ]
  },
  {
   "cell_type": "markdown",
   "id": "4fd2d009-8b69-4802-92f0-117de50b9833",
   "metadata": {},
   "source": [
    "## 22. Web scraping with Beautiful Soup"
   ]
  },
  {
   "cell_type": "code",
   "execution_count": 75,
   "id": "73599c4e-4b4d-4bc0-b4ef-2e8d474e2276",
   "metadata": {},
   "outputs": [],
   "source": [
    "from bs4 import BeautifulSoup\n",
    "import requests\n",
    "\n",
    "url = \"https://example.com\"\n",
    "response = requests.get(url)\n",
    "soup = BeautifulSoup(response.text, 'html.parser')\n",
    "\n",
    "# Extract data from HTML\n",
    "title = soup.title.text"
   ]
  },
  {
   "cell_type": "markdown",
   "id": "64868c9f-050b-417e-a117-35c2398bac46",
   "metadata": {},
   "source": [
    "## 23. RESTful API with Flask"
   ]
  },
  {
   "cell_type": "code",
   "execution_count": 36,
   "id": "fd82a7bd-43bb-4681-84ad-54f31891929c",
   "metadata": {},
   "outputs": [
    {
     "name": "stdout",
     "output_type": "stream",
     "text": [
      " * Serving Flask app '__main__'\n",
      " * Debug mode: on\n"
     ]
    },
    {
     "name": "stderr",
     "output_type": "stream",
     "text": [
      "WARNING: This is a development server. Do not use it in a production deployment. Use a production WSGI server instead.\n",
      " * Running on http://127.0.0.1:5000\n",
      "Press CTRL+C to quit\n",
      " * Restarting with stat\n"
     ]
    },
    {
     "ename": "SystemExit",
     "evalue": "1",
     "output_type": "error",
     "traceback": [
      "An exception has occurred, use %tb to see the full traceback.\n",
      "\u001b[1;31mSystemExit\u001b[0m\u001b[1;31m:\u001b[0m 1\n"
     ]
    },
    {
     "name": "stderr",
     "output_type": "stream",
     "text": [
      "C:\\Users\\fern_is\\AppData\\Local\\Programs\\Python\\Python312\\Lib\\site-packages\\IPython\\core\\interactiveshell.py:3585: UserWarning: To exit: use 'exit', 'quit', or Ctrl-D.\n",
      "  warn(\"To exit: use 'exit', 'quit', or Ctrl-D.\", stacklevel=1)\n"
     ]
    }
   ],
   "source": [
    "from flask import Flask, jsonify, request\n",
    "\n",
    "app = Flask(__name__)\n",
    "@app.route('/api/data', methods=['GET'])\n",
    "def get_data():\n",
    "    data = {'key': 'value'}\n",
    "    return jsonify(data)\n",
    "if __name__ == '__main__':\n",
    "    app.run(debug=True)"
   ]
  },
  {
   "cell_type": "markdown",
   "id": "6cb6d283-dc87-47a8-b86e-648bcce91177",
   "metadata": {},
   "source": [
    "## 24. Unit Testing with unittest"
   ]
  },
  {
   "cell_type": "code",
   "execution_count": 37,
   "id": "b633f5cb-4df8-4d10-bd82-c91fac012749",
   "metadata": {},
   "outputs": [
    {
     "name": "stderr",
     "output_type": "stream",
     "text": [
      "E\n",
      "======================================================================\n",
      "ERROR: C:\\Users\\fern_is\\AppData\\Roaming\\jupyter\\runtime\\kernel-c11a38eb-ea1b-472a-9d71-c9d62c420310 (unittest.loader._FailedTest.C:\\Users\\fern_is\\AppData\\Roaming\\jupyter\\runtime\\kernel-c11a38eb-ea1b-472a-9d71-c9d62c420310)\n",
      "----------------------------------------------------------------------\n",
      "AttributeError: module '__main__' has no attribute 'C:\\Users\\fern_is\\AppData\\Roaming\\jupyter\\runtime\\kernel-c11a38eb-ea1b-472a-9d71-c9d62c420310'\n",
      "\n",
      "----------------------------------------------------------------------\n",
      "Ran 1 test in 0.001s\n",
      "\n",
      "FAILED (errors=1)\n"
     ]
    },
    {
     "ename": "SystemExit",
     "evalue": "1",
     "output_type": "error",
     "traceback": [
      "An exception has occurred, use %tb to see the full traceback.\n",
      "\u001b[1;31mSystemExit\u001b[0m\u001b[1;31m:\u001b[0m 1\n"
     ]
    },
    {
     "name": "stderr",
     "output_type": "stream",
     "text": [
      "C:\\Users\\fern_is\\AppData\\Local\\Programs\\Python\\Python312\\Lib\\site-packages\\IPython\\core\\interactiveshell.py:3585: UserWarning: To exit: use 'exit', 'quit', or Ctrl-D.\n",
      "  warn(\"To exit: use 'exit', 'quit', or Ctrl-D.\", stacklevel=1)\n"
     ]
    }
   ],
   "source": [
    "import unittest\n",
    "\n",
    "def add(x,y):\n",
    "    return x + y\n",
    "\n",
    "class TestAddition(unittest.TestCase):\n",
    "    def test_add_positive_numbers(self):\n",
    "        self.assertEqual(add(2,3),5)\n",
    "if __name__ == '__main__':\n",
    "    unittest.main()"
   ]
  },
  {
   "cell_type": "markdown",
   "id": "e656d57a-bddd-433f-8893-f811fd999655",
   "metadata": {},
   "source": [
    "## 25. Database Interaction with SQLite"
   ]
  },
  {
   "cell_type": "code",
   "execution_count": 39,
   "id": "d946f140-c522-40de-9ab1-32acb44b4a17",
   "metadata": {},
   "outputs": [],
   "source": [
    "import sqlite3\n",
    "\n",
    "conn = sqlite3.connect('example.db')\n",
    "cursor = conn.cursor()\n",
    "\n",
    "# Execute SQL query\n",
    "cursor. execute('CREATE TABLE IF NOT EXISTS users (id INTEGER PRIMARY KEY, name TEXT)')\n",
    "\n",
    "# Commit changes\n",
    "conn.commit()\n",
    "\n",
    "# Close connection\n",
    "conn.close()"
   ]
  },
  {
   "cell_type": "markdown",
   "id": "e3722558-8b49-4a48-8fe9-e9341f2d2b4f",
   "metadata": {},
   "source": [
    "## 26. File Hanling"
   ]
  },
  {
   "cell_type": "code",
   "execution_count": 43,
   "id": "f46f2720-c8dc-4be7-a85c-5b0999464a0b",
   "metadata": {},
   "outputs": [],
   "source": [
    "# Writting to a file\n",
    "with open('example.txt', 'w') as file:\n",
    "    file.write('Hello, Python!')\n",
    "\n",
    "# Reading from a file\n",
    "with open('example.txt', 'r') as file:\n",
    "    content = file.read()"
   ]
  },
  {
   "cell_type": "markdown",
   "id": "7f058dca-3aaf-47b8-820d-efd02ce99104",
   "metadata": {},
   "source": [
    "## 27. Error Handling"
   ]
  },
  {
   "cell_type": "code",
   "execution_count": 44,
   "id": "b3a84e73-65d0-4572-b05b-4af09336af70",
   "metadata": {},
   "outputs": [
    {
     "name": "stdout",
     "output_type": "stream",
     "text": [
      "Error: division by zero\n",
      "This block always executes.\n"
     ]
    }
   ],
   "source": [
    "try:\n",
    "    result = 10 / 0\n",
    "except ZeroDivisionError as e:\n",
    "    print(f\"Error: {e}\")\n",
    "except Exception as e:\n",
    "    print(f\"Unexpected Error: {e}\")\n",
    "else:\n",
    "    print(\"No errors occurred.\")\n",
    "finally:\n",
    "    print(\"This block always executes.\")"
   ]
  },
  {
   "cell_type": "markdown",
   "id": "3631e3c7-2a74-4192-b9e7-391dc23b2ca0",
   "metadata": {},
   "source": [
    "## 28. Working with JSON"
   ]
  },
  {
   "cell_type": "code",
   "execution_count": 46,
   "id": "e7abc26c-5888-4a2c-9c7b-d8c29fbdf1c9",
   "metadata": {},
   "outputs": [
    {
     "data": {
      "text/plain": [
       "{'name': 'John', 'age': 30}"
      ]
     },
     "execution_count": 46,
     "metadata": {},
     "output_type": "execute_result"
    }
   ],
   "source": [
    "import json\n",
    "data = {'name': 'John', 'age': 30}\n",
    "\n",
    "# Convert Python object to JSON\n",
    "json_data = json.dumps(data)\n",
    "\n",
    "# Convert JSON to Python object\n",
    "python_object = json.loads(json_data)\n",
    "\n",
    "python_object"
   ]
  },
  {
   "cell_type": "markdown",
   "id": "c0e3b51a-b461-4678-8e27-b0ec6824a433",
   "metadata": {},
   "source": [
    "## 29. Python Decorators"
   ]
  },
  {
   "cell_type": "code",
   "execution_count": 47,
   "id": "9d9b63d9-d800-4adb-9eb1-922ffa8cbc9d",
   "metadata": {},
   "outputs": [
    {
     "name": "stdout",
     "output_type": "stream",
     "text": [
      "Before function execution\n",
      "Inside the function\n",
      "After function execution\n"
     ]
    }
   ],
   "source": [
    "def decorator(func):\n",
    "    def wrapper():\n",
    "        print(\"Before function execution\")\n",
    "        func()\n",
    "        print(\"After function execution\")\n",
    "    return wrapper\n",
    "\n",
    "@decorator\n",
    "def my_function():\n",
    "    print(\"Inside the function\")\n",
    "my_function()"
   ]
  },
  {
   "cell_type": "markdown",
   "id": "fade68e0-f508-420a-a94b-e3943cc12ff4",
   "metadata": {},
   "source": [
    "## 30. Working with Enums"
   ]
  },
  {
   "cell_type": "code",
   "execution_count": 49,
   "id": "05e840e5-8b51-42d5-9029-380304d0c0ee",
   "metadata": {},
   "outputs": [
    {
     "name": "stdout",
     "output_type": "stream",
     "text": [
      "Color.RED\n"
     ]
    }
   ],
   "source": [
    "from enum import Enum\n",
    "class Color(Enum):\n",
    "    RED = 1\n",
    "    GREEN = 2\n",
    "    BLUE = 3\n",
    "print(Color.RED)"
   ]
  },
  {
   "cell_type": "markdown",
   "id": "5b5b0968-c5b2-4555-9f9d-0aa7dbfb1ec7",
   "metadata": {},
   "source": [
    "## 31. Working with Sets"
   ]
  },
  {
   "cell_type": "code",
   "execution_count": 52,
   "id": "33ba4956-7c32-4428-bcbb-4bbec452aad1",
   "metadata": {},
   "outputs": [
    {
     "name": "stdout",
     "output_type": "stream",
     "text": [
      "{1, 2, 3, 4, 5}\n",
      "{3}\n",
      "{1, 2}\n"
     ]
    }
   ],
   "source": [
    "set1 = {1, 2, 3}\n",
    "set2 = {3, 4, 5}\n",
    "\n",
    "# Union\n",
    "union_set = set1 | set2\n",
    "\n",
    "# Intersection\n",
    "intersection_set = set1 & set2\n",
    "\n",
    "# Difference\n",
    "difference_set = set1 - set2\n",
    "\n",
    "print(union_set)\n",
    "print(intersection_set)\n",
    "print(difference_set)"
   ]
  },
  {
   "cell_type": "markdown",
   "id": "ec9ba7f4-52e2-463b-b5e9-f62a8806817e",
   "metadata": {},
   "source": [
    "## 32. List Comprehension"
   ]
  },
  {
   "cell_type": "code",
   "execution_count": 53,
   "id": "c6b66067-5afe-44a6-8014-a97d47937113",
   "metadata": {},
   "outputs": [],
   "source": [
    "numbers = [1, 2, 3, 4, 5]\n",
    "# Squares of even numbers\n",
    "squares = [x**2 for x in numbers if x%2 == 0]"
   ]
  },
  {
   "cell_type": "markdown",
   "id": "7c7dba7a-d265-4eb9-b1c9-4b36caa9874d",
   "metadata": {},
   "source": [
    "## 33. Lambda Functions"
   ]
  },
  {
   "cell_type": "code",
   "execution_count": 54,
   "id": "637f5ecc-a5c2-4489-8d12-94a90841a8c4",
   "metadata": {},
   "outputs": [],
   "source": [
    "add = lambda x, y: x + y\n",
    "result = add(3, 5)"
   ]
  },
  {
   "cell_type": "markdown",
   "id": "4ef66ed0-6fc8-4760-99e3-b68acddfa72a",
   "metadata": {},
   "source": [
    "## 34. Threading with Concurrent.futures"
   ]
  },
  {
   "cell_type": "code",
   "execution_count": 55,
   "id": "5c595196-0de4-43e9-ab73-bd395882e1c5",
   "metadata": {},
   "outputs": [],
   "source": [
    "from concurrent.futures import ThreadPoolExecutor\n",
    "def square(x):\n",
    "    return x**2\n",
    "with ThreadPoolExecutor() as executor:\n",
    "    results = executor.map(square, [1, 2, 3, 4, 5])"
   ]
  },
  {
   "cell_type": "markdown",
   "id": "c7c2abc9-d98c-46f5-ac9f-3fcb3ce7c007",
   "metadata": {},
   "source": [
    "## 35. Internationalization (i18n) with gettext"
   ]
  },
  {
   "cell_type": "code",
   "execution_count": 59,
   "id": "e8c80f71-f52c-40ae-9b93-7f7a3ae43921",
   "metadata": {},
   "outputs": [
    {
     "ename": "FileNotFoundError",
     "evalue": "[Errno 2] No translation file found for domain: 'messages'",
     "output_type": "error",
     "traceback": [
      "\u001b[1;31m---------------------------------------------------------------------------\u001b[0m",
      "\u001b[1;31mFileNotFoundError\u001b[0m                         Traceback (most recent call last)",
      "Cell \u001b[1;32mIn[59], line 4\u001b[0m\n\u001b[0;32m      2\u001b[0m \u001b[38;5;66;03m# Set language\u001b[39;00m\n\u001b[0;32m      3\u001b[0m lang \u001b[38;5;241m=\u001b[39m \u001b[38;5;124m'\u001b[39m\u001b[38;5;124men_US\u001b[39m\u001b[38;5;124m'\u001b[39m\n\u001b[1;32m----> 4\u001b[0m _ \u001b[38;5;241m=\u001b[39m \u001b[43mgettext\u001b[49m\u001b[38;5;241;43m.\u001b[39;49m\u001b[43mtranslation\u001b[49m\u001b[43m(\u001b[49m\u001b[38;5;124;43m'\u001b[39;49m\u001b[38;5;124;43mmessages\u001b[39;49m\u001b[38;5;124;43m'\u001b[39;49m\u001b[43m,\u001b[49m\u001b[43m \u001b[49m\u001b[43mlocaledir\u001b[49m\u001b[38;5;241;43m=\u001b[39;49m\u001b[38;5;124;43m'\u001b[39;49m\u001b[38;5;124;43mlocale\u001b[39;49m\u001b[38;5;124;43m'\u001b[39;49m\u001b[43m,\u001b[49m\u001b[43m \u001b[49m\u001b[43mlanguages\u001b[49m\u001b[38;5;241;43m=\u001b[39;49m\u001b[43m[\u001b[49m\u001b[43mlang\u001b[49m\u001b[43m]\u001b[49m\u001b[43m)\u001b[49m\u001b[38;5;241m.\u001b[39mgettext\n\u001b[0;32m      5\u001b[0m \u001b[38;5;28mprint\u001b[39m(_(\u001b[38;5;124m\"\u001b[39m\u001b[38;5;124mHello, World!\u001b[39m\u001b[38;5;124m\"\u001b[39m))\n",
      "File \u001b[1;32m~\\AppData\\Local\\Programs\\Python\\Python312\\Lib\\gettext.py:528\u001b[0m, in \u001b[0;36mtranslation\u001b[1;34m(domain, localedir, languages, class_, fallback)\u001b[0m\n\u001b[0;32m    526\u001b[0m         \u001b[38;5;28;01mreturn\u001b[39;00m NullTranslations()\n\u001b[0;32m    527\u001b[0m     \u001b[38;5;28;01mfrom\u001b[39;00m \u001b[38;5;21;01merrno\u001b[39;00m \u001b[38;5;28;01mimport\u001b[39;00m ENOENT\n\u001b[1;32m--> 528\u001b[0m     \u001b[38;5;28;01mraise\u001b[39;00m \u001b[38;5;167;01mFileNotFoundError\u001b[39;00m(ENOENT,\n\u001b[0;32m    529\u001b[0m                             \u001b[38;5;124m'\u001b[39m\u001b[38;5;124mNo translation file found for domain\u001b[39m\u001b[38;5;124m'\u001b[39m, domain)\n\u001b[0;32m    530\u001b[0m \u001b[38;5;66;03m# Avoid opening, reading, and parsing the .mo file after it's been done\u001b[39;00m\n\u001b[0;32m    531\u001b[0m \u001b[38;5;66;03m# once.\u001b[39;00m\n\u001b[0;32m    532\u001b[0m result \u001b[38;5;241m=\u001b[39m \u001b[38;5;28;01mNone\u001b[39;00m\n",
      "\u001b[1;31mFileNotFoundError\u001b[0m: [Errno 2] No translation file found for domain: 'messages'"
     ]
    }
   ],
   "source": [
    "import gettext\n",
    "# Set language\n",
    "lang = 'en_US'\n",
    "_ = gettext.translation('messages', localedir='locale', languages=[lang]).gettext\n",
    "print(_(\"Hello, World!\"))"
   ]
  },
  {
   "cell_type": "markdown",
   "id": "d4ef435d-bba4-4ae2-a1a0-8fec53120849",
   "metadata": {},
   "source": [
    "## 37. Working with Dictionaries"
   ]
  },
  {
   "cell_type": "code",
   "execution_count": 63,
   "id": "3ca3b4aa-496e-4971-92fa-3e0928fa88a9",
   "metadata": {},
   "outputs": [
    {
     "name": "stdout",
     "output_type": "stream",
     "text": [
      "name: John\n",
      "age: 30\n"
     ]
    }
   ],
   "source": [
    "my_dict = {'name': 'John', 'age':30}\n",
    "# Get value with default\n",
    "age = my_dict.get('age', 25)\n",
    "# Iterate over keys and values\n",
    "for key, value in my_dict.items():\n",
    "    print(f\"{key}: {value}\")"
   ]
  },
  {
   "cell_type": "markdown",
   "id": "bb26181e-f651-4a2f-8497-2711bb5a026b",
   "metadata": {},
   "source": [
    "## 38. Regular Expressions"
   ]
  },
  {
   "cell_type": "code",
   "execution_count": 65,
   "id": "07fd1075-6362-4a50-92d9-ec3f9eaa9be9",
   "metadata": {},
   "outputs": [],
   "source": [
    "import re\n",
    "text = \"Hello, 123 World!\"\n",
    "# Match numbers\n",
    "numbers = re.findall(r'\\d+', text)"
   ]
  },
  {
   "cell_type": "markdown",
   "id": "a0e996f2-0a62-4e3f-85dc-d70a7b942fe5",
   "metadata": {},
   "source": [
    "## 39. Working with Generators"
   ]
  },
  {
   "cell_type": "code",
   "execution_count": 67,
   "id": "155009aa-582a-4ec6-ac65-881268dc6f5e",
   "metadata": {},
   "outputs": [],
   "source": [
    "def square_numbers(n):\n",
    "    for i in range(n):\n",
    "        yield i**2\n",
    "squares = square_numbers(5)"
   ]
  },
  {
   "cell_type": "markdown",
   "id": "604604d4-474b-45fc-ae51-2baa4812607d",
   "metadata": {},
   "source": [
    "## 40. Database Interaction with SQLite"
   ]
  },
  {
   "cell_type": "code",
   "execution_count": 70,
   "id": "471d240c-3df2-4387-950e-c0153d470283",
   "metadata": {},
   "outputs": [
    {
     "ename": "OperationalError",
     "evalue": "no such table: mytable",
     "output_type": "error",
     "traceback": [
      "\u001b[1;31m---------------------------------------------------------------------------\u001b[0m",
      "\u001b[1;31mOperationalError\u001b[0m                          Traceback (most recent call last)",
      "Cell \u001b[1;32mIn[70], line 6\u001b[0m\n\u001b[0;32m      4\u001b[0m cursor \u001b[38;5;241m=\u001b[39m conn\u001b[38;5;241m.\u001b[39mcursor()\n\u001b[0;32m      5\u001b[0m \u001b[38;5;66;03m# Execurte SQL query\u001b[39;00m\n\u001b[1;32m----> 6\u001b[0m \u001b[43mcursor\u001b[49m\u001b[38;5;241;43m.\u001b[39;49m\u001b[43mexecute\u001b[49m\u001b[43m(\u001b[49m\u001b[38;5;124;43m'\u001b[39;49m\u001b[38;5;124;43mSELECT * FROM mytable\u001b[39;49m\u001b[38;5;124;43m'\u001b[39;49m\u001b[43m)\u001b[49m\n",
      "\u001b[1;31mOperationalError\u001b[0m: no such table: mytable"
     ]
    }
   ],
   "source": [
    "import sqlite3\n",
    "# Connect to SQLite database\n",
    "conn = sqlite3.connect('mydatabase.db')\n",
    "cursor = conn.cursor()\n",
    "# Execurte SQL query\n",
    "cursor.execute('SELECT * FROM mytable')"
   ]
  },
  {
   "cell_type": "markdown",
   "id": "915414ca-9f64-4a71-8df0-1e69ef3919b1",
   "metadata": {},
   "source": [
    "## 41. Working with ZIP files"
   ]
  },
  {
   "cell_type": "code",
   "execution_count": 74,
   "id": "d0096e30-6929-4478-9feb-917060638bf1",
   "metadata": {},
   "outputs": [],
   "source": [
    "import zipfile\n",
    "with zipfile.ZipFile('archive.zip', 'w') as myzip:\n",
    "    myzip.write('file.txt')\n",
    "with zipfile.ZipFile('archive.zip', 'r') as myzip:\n",
    "    myzip.extractall('extracted')"
   ]
  },
  {
   "cell_type": "markdown",
   "id": "ee17f692-295c-43d5-a492-b3eb083a63f1",
   "metadata": {},
   "source": [
    "## 42. Sending email with smtplib"
   ]
  },
  {
   "cell_type": "code",
   "execution_count": 77,
   "id": "ae1fecdf-05cb-48e6-a380-f8fa6d78cf3b",
   "metadata": {},
   "outputs": [
    {
     "ename": "SMTPAuthenticationError",
     "evalue": "(535, b'5.7.8 Username and Password not accepted. For more information, go to\\n5.7.8  https://support.google.com/mail/?p=BadCredentials 5b1f17b1804b1-42da242736bsm73050025e9.40 - gsmtp')",
     "output_type": "error",
     "traceback": [
      "\u001b[1;31m---------------------------------------------------------------------------\u001b[0m",
      "\u001b[1;31mSMTPAuthenticationError\u001b[0m                   Traceback (most recent call last)",
      "Cell \u001b[1;32mIn[77], line 9\u001b[0m\n\u001b[0;32m      6\u001b[0m server\u001b[38;5;241m.\u001b[39mstarttls()\n\u001b[0;32m      8\u001b[0m \u001b[38;5;66;03m# Log in to email account\u001b[39;00m\n\u001b[1;32m----> 9\u001b[0m \u001b[43mserver\u001b[49m\u001b[38;5;241;43m.\u001b[39;49m\u001b[43mlogin\u001b[49m\u001b[43m(\u001b[49m\u001b[38;5;124;43m'\u001b[39;49m\u001b[38;5;124;43myour_email@gmail.com\u001b[39;49m\u001b[38;5;124;43m'\u001b[39;49m\u001b[43m,\u001b[49m\u001b[43m \u001b[49m\u001b[38;5;124;43m'\u001b[39;49m\u001b[38;5;124;43myour_password\u001b[39;49m\u001b[38;5;124;43m'\u001b[39;49m\u001b[43m)\u001b[49m\n\u001b[0;32m     11\u001b[0m \u001b[38;5;66;03m# Send email\u001b[39;00m\n\u001b[0;32m     12\u001b[0m msg \u001b[38;5;241m=\u001b[39m MIMETest(\u001b[38;5;124m'\u001b[39m\u001b[38;5;124mHello, PYthon!\u001b[39m\u001b[38;5;124m'\u001b[39m)\n",
      "File \u001b[1;32m~\\AppData\\Local\\Programs\\Python\\Python312\\Lib\\smtplib.py:750\u001b[0m, in \u001b[0;36mSMTP.login\u001b[1;34m(self, user, password, initial_response_ok)\u001b[0m\n\u001b[0;32m    747\u001b[0m         last_exception \u001b[38;5;241m=\u001b[39m e\n\u001b[0;32m    749\u001b[0m \u001b[38;5;66;03m# We could not login successfully.  Return result of last attempt.\u001b[39;00m\n\u001b[1;32m--> 750\u001b[0m \u001b[38;5;28;01mraise\u001b[39;00m last_exception\n",
      "File \u001b[1;32m~\\AppData\\Local\\Programs\\Python\\Python312\\Lib\\smtplib.py:739\u001b[0m, in \u001b[0;36mSMTP.login\u001b[1;34m(self, user, password, initial_response_ok)\u001b[0m\n\u001b[0;32m    737\u001b[0m method_name \u001b[38;5;241m=\u001b[39m \u001b[38;5;124m'\u001b[39m\u001b[38;5;124mauth_\u001b[39m\u001b[38;5;124m'\u001b[39m \u001b[38;5;241m+\u001b[39m authmethod\u001b[38;5;241m.\u001b[39mlower()\u001b[38;5;241m.\u001b[39mreplace(\u001b[38;5;124m'\u001b[39m\u001b[38;5;124m-\u001b[39m\u001b[38;5;124m'\u001b[39m, \u001b[38;5;124m'\u001b[39m\u001b[38;5;124m_\u001b[39m\u001b[38;5;124m'\u001b[39m)\n\u001b[0;32m    738\u001b[0m \u001b[38;5;28;01mtry\u001b[39;00m:\n\u001b[1;32m--> 739\u001b[0m     (code, resp) \u001b[38;5;241m=\u001b[39m \u001b[38;5;28;43mself\u001b[39;49m\u001b[38;5;241;43m.\u001b[39;49m\u001b[43mauth\u001b[49m\u001b[43m(\u001b[49m\n\u001b[0;32m    740\u001b[0m \u001b[43m        \u001b[49m\u001b[43mauthmethod\u001b[49m\u001b[43m,\u001b[49m\u001b[43m \u001b[49m\u001b[38;5;28;43mgetattr\u001b[39;49m\u001b[43m(\u001b[49m\u001b[38;5;28;43mself\u001b[39;49m\u001b[43m,\u001b[49m\u001b[43m \u001b[49m\u001b[43mmethod_name\u001b[49m\u001b[43m)\u001b[49m\u001b[43m,\u001b[49m\n\u001b[0;32m    741\u001b[0m \u001b[43m        \u001b[49m\u001b[43minitial_response_ok\u001b[49m\u001b[38;5;241;43m=\u001b[39;49m\u001b[43minitial_response_ok\u001b[49m\u001b[43m)\u001b[49m\n\u001b[0;32m    742\u001b[0m     \u001b[38;5;66;03m# 235 == 'Authentication successful'\u001b[39;00m\n\u001b[0;32m    743\u001b[0m     \u001b[38;5;66;03m# 503 == 'Error: already authenticated'\u001b[39;00m\n\u001b[0;32m    744\u001b[0m     \u001b[38;5;28;01mif\u001b[39;00m code \u001b[38;5;129;01min\u001b[39;00m (\u001b[38;5;241m235\u001b[39m, \u001b[38;5;241m503\u001b[39m):\n",
      "File \u001b[1;32m~\\AppData\\Local\\Programs\\Python\\Python312\\Lib\\smtplib.py:662\u001b[0m, in \u001b[0;36mSMTP.auth\u001b[1;34m(self, mechanism, authobject, initial_response_ok)\u001b[0m\n\u001b[0;32m    660\u001b[0m \u001b[38;5;28;01mif\u001b[39;00m code \u001b[38;5;129;01min\u001b[39;00m (\u001b[38;5;241m235\u001b[39m, \u001b[38;5;241m503\u001b[39m):\n\u001b[0;32m    661\u001b[0m     \u001b[38;5;28;01mreturn\u001b[39;00m (code, resp)\n\u001b[1;32m--> 662\u001b[0m \u001b[38;5;28;01mraise\u001b[39;00m SMTPAuthenticationError(code, resp)\n",
      "\u001b[1;31mSMTPAuthenticationError\u001b[0m: (535, b'5.7.8 Username and Password not accepted. For more information, go to\\n5.7.8  https://support.google.com/mail/?p=BadCredentials 5b1f17b1804b1-42da242736bsm73050025e9.40 - gsmtp')"
     ]
    }
   ],
   "source": [
    "import smtplib\n",
    "from email.mime.text import MIMEText\n",
    "\n",
    "# Set up email server\n",
    "server = smtplib.SMTP('smtp.gmail.com', 587)\n",
    "server.starttls()\n",
    "\n",
    "# Log in to email account\n",
    "server.login('your_email@gmail.com', 'your_password')\n",
    "\n",
    "# Send email\n",
    "msg = MIMETest('Hello, PYthon!')\n",
    "msg['Subject'] = 'Python Email'\n",
    "server.sendmail"
   ]
  },
  {
   "cell_type": "markdown",
   "id": "772d829a-1fd6-4834-a1b4-b22955b4381c",
   "metadata": {},
   "source": [
    "## 43. Working with JSON files"
   ]
  },
  {
   "cell_type": "code",
   "execution_count": null,
   "id": "0bafa020-92bf-4787-84e1-6b0b10f2b0e9",
   "metadata": {},
   "outputs": [],
   "source": [
    "import json"
   ]
  }
 ],
 "metadata": {
  "kernelspec": {
   "display_name": "Python 3 (ipykernel)",
   "language": "python",
   "name": "python3"
  },
  "language_info": {
   "codemirror_mode": {
    "name": "ipython",
    "version": 3
   },
   "file_extension": ".py",
   "mimetype": "text/x-python",
   "name": "python",
   "nbconvert_exporter": "python",
   "pygments_lexer": "ipython3",
   "version": "3.12.5"
  }
 },
 "nbformat": 4,
 "nbformat_minor": 5
}
