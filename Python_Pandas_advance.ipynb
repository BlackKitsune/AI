{
 "cells": [
  {
   "cell_type": "markdown",
   "id": "0fc9b9a1-cf0c-41b6-9c1b-643b7a895811",
   "metadata": {},
   "source": [
    "# 7 Unique Pandas functions to elevate your analysis"
   ]
  },
  {
   "cell_type": "markdown",
   "id": "7c6253ab-9aa0-4554-99bb-55012a8f4efc",
   "metadata": {},
   "source": [
    "## What is Pandas?\n",
    "Pandas is the top Python library used, especially in the data analytics process, for working with structured and semi-structured data to perform data maniputaltion and analysis tasks. From data cleaning to data visualization, it's your go to library for performing most of the tasks you need in your project.\n",
    "\n",
    "It has two primary data structures:\n",
    "- The 1D (Series) data structure\n",
    "- The 2D (DataFrame) data structure\n",
    "\n",
    "Pandas provides an extensive number of function, so it is essential to compile a short list of functions associated with Pandas DF or Pandas libray in general that are especially useful in analytics projects."
   ]
  },
  {
   "cell_type": "code",
   "execution_count": 1,
   "id": "4d7eb6a1-85de-406d-8eba-f7f030828093",
   "metadata": {},
   "outputs": [],
   "source": [
    "# Import Pandas library\n",
    "import pandas as pd"
   ]
  },
  {
   "cell_type": "markdown",
   "id": "664bedb7-9a1b-46e9-ae56-dfaa1039dcf8",
   "metadata": {},
   "source": [
    "## 1. .update()\n",
    "It can be used in multiple ways, for example to describe a term called \"Isolation and Fix\".\n",
    "For example, some rows in the month column of a dataset are inconsistend with the rest of the data, or some columns in these rowe differ from the gneral data. To address this, the rows should be extracted and correct all the issues, and then reintegrate the corredte rows back into the dataset."
   ]
  },
  {
   "cell_type": "code",
   "execution_count": 2,
   "id": "0a2c499f-3421-4b18-a658-e44a6152b0b4",
   "metadata": {},
   "outputs": [],
   "source": [
    "# Sample data\n",
    "data1 = pd.DataFrame({\n",
    "    'month': ['Jan', 'Feb', 'Marh', 'Aprh'], \n",
    "    'value': [10, 20, 305, 405],\n",
    "}, index = [1, 2, 3, 4])"
   ]
  },
  {
   "cell_type": "code",
   "execution_count": 3,
   "id": "5c468812-9328-4072-aa71-3b7a3925f84a",
   "metadata": {},
   "outputs": [],
   "source": [
    "# Extracte data\n",
    "data2 = pd.DataFrame({\n",
    "    'month': ['Marh', 'Aprh'], \n",
    "    'value': [305, 405],\n",
    "}, index = [3, 4])"
   ]
  },
  {
   "cell_type": "code",
   "execution_count": 4,
   "id": "4b5e9fbc-3b5b-465e-b095-33c3af6bd057",
   "metadata": {},
   "outputs": [],
   "source": [
    "# Correcting the odd rows\n",
    "data2 = pd.DataFrame({\n",
    "    'month': ['Apr', 'Mar'],\n",
    "    'value': [30, 40]\n",
    "}, index=[3, 4])"
   ]
  },
  {
   "cell_type": "code",
   "execution_count": 5,
   "id": "24243692-c1c4-4b8b-a0f2-e8487309822b",
   "metadata": {},
   "outputs": [],
   "source": [
    "# Update the original data with corrected values\n",
    "data1.update(data2)"
   ]
  },
  {
   "cell_type": "code",
   "execution_count": 6,
   "id": "d25f8438-adb9-4cf7-ad36-4fd65c6ba713",
   "metadata": {},
   "outputs": [
    {
     "data": {
      "text/html": [
       "<div>\n",
       "<style scoped>\n",
       "    .dataframe tbody tr th:only-of-type {\n",
       "        vertical-align: middle;\n",
       "    }\n",
       "\n",
       "    .dataframe tbody tr th {\n",
       "        vertical-align: top;\n",
       "    }\n",
       "\n",
       "    .dataframe thead th {\n",
       "        text-align: right;\n",
       "    }\n",
       "</style>\n",
       "<table border=\"1\" class=\"dataframe\">\n",
       "  <thead>\n",
       "    <tr style=\"text-align: right;\">\n",
       "      <th></th>\n",
       "      <th>month</th>\n",
       "      <th>value</th>\n",
       "    </tr>\n",
       "  </thead>\n",
       "  <tbody>\n",
       "    <tr>\n",
       "      <th>1</th>\n",
       "      <td>Jan</td>\n",
       "      <td>10</td>\n",
       "    </tr>\n",
       "    <tr>\n",
       "      <th>2</th>\n",
       "      <td>Feb</td>\n",
       "      <td>20</td>\n",
       "    </tr>\n",
       "    <tr>\n",
       "      <th>3</th>\n",
       "      <td>Apr</td>\n",
       "      <td>30</td>\n",
       "    </tr>\n",
       "    <tr>\n",
       "      <th>4</th>\n",
       "      <td>Mar</td>\n",
       "      <td>40</td>\n",
       "    </tr>\n",
       "  </tbody>\n",
       "</table>\n",
       "</div>"
      ],
      "text/plain": [
       "  month  value\n",
       "1   Jan     10\n",
       "2   Feb     20\n",
       "3   Apr     30\n",
       "4   Mar     40"
      ]
     },
     "execution_count": 6,
     "metadata": {},
     "output_type": "execute_result"
    }
   ],
   "source": [
    "data1"
   ]
  },
  {
   "cell_type": "markdown",
   "id": "0157490c-a2fc-4f73-b082-4ef4371070d1",
   "metadata": {},
   "source": [
    "## 2. .apply()\n",
    "This function is apowerful method used to apply a function along an axis of the DF or Series. It's highly versatile and can be used for a variety of operations, including applying custom functions, transforming data, and categorizing data, for example."
   ]
  },
  {
   "cell_type": "markdown",
   "id": "39670145-9e99-4109-b263-7d3efb81963d",
   "metadata": {},
   "source": [
    "### a) Applying a function to each value in a column"
   ]
  },
  {
   "cell_type": "code",
   "execution_count": 7,
   "id": "80ac6a63-54f8-4c6f-84b4-f784c622fabb",
   "metadata": {},
   "outputs": [],
   "source": [
    "# Sample data\n",
    "data = pd.DataFrame({\n",
    "    'A': [1, 2, 3], \n",
    "    'B': [4, 6, 5],\n",
    "})"
   ]
  },
  {
   "cell_type": "code",
   "execution_count": 8,
   "id": "8e6911f2-5a40-43a0-b2fb-630dd28897ff",
   "metadata": {},
   "outputs": [
    {
     "name": "stdout",
     "output_type": "stream",
     "text": [
      "<class 'pandas.core.frame.DataFrame'>\n",
      "RangeIndex: 3 entries, 0 to 2\n",
      "Data columns (total 2 columns):\n",
      " #   Column  Non-Null Count  Dtype\n",
      "---  ------  --------------  -----\n",
      " 0   A       3 non-null      int64\n",
      " 1   B       3 non-null      int64\n",
      "dtypes: int64(2)\n",
      "memory usage: 180.0 bytes\n"
     ]
    }
   ],
   "source": [
    "data.info()"
   ]
  },
  {
   "cell_type": "code",
   "execution_count": 9,
   "id": "5b6d5353-1c39-42d0-8452-4fdbe6aa5b0a",
   "metadata": {},
   "outputs": [],
   "source": [
    "data['A'] = data['A'].apply(lambda x: str(x))"
   ]
  },
  {
   "cell_type": "code",
   "execution_count": 10,
   "id": "5d3a9505-644b-4f4d-9474-347ae1f87b3f",
   "metadata": {},
   "outputs": [
    {
     "name": "stdout",
     "output_type": "stream",
     "text": [
      "<class 'pandas.core.frame.DataFrame'>\n",
      "RangeIndex: 3 entries, 0 to 2\n",
      "Data columns (total 2 columns):\n",
      " #   Column  Non-Null Count  Dtype \n",
      "---  ------  --------------  ----- \n",
      " 0   A       3 non-null      object\n",
      " 1   B       3 non-null      int64 \n",
      "dtypes: int64(1), object(1)\n",
      "memory usage: 180.0+ bytes\n"
     ]
    }
   ],
   "source": [
    "# Now column A is an object not and integer type\n",
    "data.info()"
   ]
  },
  {
   "cell_type": "markdown",
   "id": "7ebad77d-7876-49c2-91ec-5d78ed55123d",
   "metadata": {},
   "source": [
    "### b) Categorizing data for a new column"
   ]
  },
  {
   "cell_type": "code",
   "execution_count": 11,
   "id": "e3ab8cc7-86c8-4544-b92d-0a6ceddadc67",
   "metadata": {},
   "outputs": [],
   "source": [
    "data = pd.DataFrame({\n",
    "    'Age': [11, 14, 19, 51]\n",
    "})"
   ]
  },
  {
   "cell_type": "code",
   "execution_count": 12,
   "id": "dc689078-7775-4013-8a27-26ad5bc158f8",
   "metadata": {},
   "outputs": [],
   "source": [
    "data['Category'] = data['Age'].apply(lambda x: 'Child' if x <= 12 else \n",
    "                                               'Teenager' if x <= 18 else \n",
    "                                               'Adult' if x > 20 else 'Young Adult')"
   ]
  },
  {
   "cell_type": "code",
   "execution_count": 13,
   "id": "075768b9-298e-4e7b-b994-65e46035790b",
   "metadata": {},
   "outputs": [
    {
     "data": {
      "text/html": [
       "<div>\n",
       "<style scoped>\n",
       "    .dataframe tbody tr th:only-of-type {\n",
       "        vertical-align: middle;\n",
       "    }\n",
       "\n",
       "    .dataframe tbody tr th {\n",
       "        vertical-align: top;\n",
       "    }\n",
       "\n",
       "    .dataframe thead th {\n",
       "        text-align: right;\n",
       "    }\n",
       "</style>\n",
       "<table border=\"1\" class=\"dataframe\">\n",
       "  <thead>\n",
       "    <tr style=\"text-align: right;\">\n",
       "      <th></th>\n",
       "      <th>Age</th>\n",
       "      <th>Category</th>\n",
       "    </tr>\n",
       "  </thead>\n",
       "  <tbody>\n",
       "    <tr>\n",
       "      <th>0</th>\n",
       "      <td>11</td>\n",
       "      <td>Child</td>\n",
       "    </tr>\n",
       "    <tr>\n",
       "      <th>1</th>\n",
       "      <td>14</td>\n",
       "      <td>Teenager</td>\n",
       "    </tr>\n",
       "    <tr>\n",
       "      <th>2</th>\n",
       "      <td>19</td>\n",
       "      <td>Young Adult</td>\n",
       "    </tr>\n",
       "    <tr>\n",
       "      <th>3</th>\n",
       "      <td>51</td>\n",
       "      <td>Adult</td>\n",
       "    </tr>\n",
       "  </tbody>\n",
       "</table>\n",
       "</div>"
      ],
      "text/plain": [
       "   Age     Category\n",
       "0   11        Child\n",
       "1   14     Teenager\n",
       "2   19  Young Adult\n",
       "3   51        Adult"
      ]
     },
     "execution_count": 13,
     "metadata": {},
     "output_type": "execute_result"
    }
   ],
   "source": [
    "data"
   ]
  },
  {
   "cell_type": "markdown",
   "id": "267021f2-8b48-4a4f-8a64-8fb6c42f5c23",
   "metadata": {},
   "source": [
    "### c) Creating a new DF"
   ]
  },
  {
   "cell_type": "code",
   "execution_count": 14,
   "id": "10bcc403-3686-4514-b589-f62ae9a342cc",
   "metadata": {},
   "outputs": [],
   "source": [
    "# Sample data\n",
    "data = pd.DataFrame({\n",
    "    'A': [1, 2, 3], \n",
    "    'B': [4, 6, 5],\n",
    "})"
   ]
  },
  {
   "cell_type": "code",
   "execution_count": 15,
   "id": "45fdc812-1f41-4cc5-8041-75199e4e9c01",
   "metadata": {},
   "outputs": [],
   "source": [
    "# Apply a lambda function to each element\n",
    "data_squared = data.apply(lambda x: x**2)"
   ]
  },
  {
   "cell_type": "code",
   "execution_count": 16,
   "id": "25810b9d-af9a-40e2-a275-a6efd096962a",
   "metadata": {},
   "outputs": [
    {
     "data": {
      "text/html": [
       "<div>\n",
       "<style scoped>\n",
       "    .dataframe tbody tr th:only-of-type {\n",
       "        vertical-align: middle;\n",
       "    }\n",
       "\n",
       "    .dataframe tbody tr th {\n",
       "        vertical-align: top;\n",
       "    }\n",
       "\n",
       "    .dataframe thead th {\n",
       "        text-align: right;\n",
       "    }\n",
       "</style>\n",
       "<table border=\"1\" class=\"dataframe\">\n",
       "  <thead>\n",
       "    <tr style=\"text-align: right;\">\n",
       "      <th></th>\n",
       "      <th>A</th>\n",
       "      <th>B</th>\n",
       "    </tr>\n",
       "  </thead>\n",
       "  <tbody>\n",
       "    <tr>\n",
       "      <th>0</th>\n",
       "      <td>1</td>\n",
       "      <td>16</td>\n",
       "    </tr>\n",
       "    <tr>\n",
       "      <th>1</th>\n",
       "      <td>4</td>\n",
       "      <td>36</td>\n",
       "    </tr>\n",
       "    <tr>\n",
       "      <th>2</th>\n",
       "      <td>9</td>\n",
       "      <td>25</td>\n",
       "    </tr>\n",
       "  </tbody>\n",
       "</table>\n",
       "</div>"
      ],
      "text/plain": [
       "   A   B\n",
       "0  1  16\n",
       "1  4  36\n",
       "2  9  25"
      ]
     },
     "execution_count": 16,
     "metadata": {},
     "output_type": "execute_result"
    }
   ],
   "source": [
    "data_squared"
   ]
  },
  {
   "cell_type": "markdown",
   "id": "e3b98563-8c56-4884-8d6d-8d418c0a35f1",
   "metadata": {},
   "source": [
    "## 3. .pipe()\n",
    "This function allows you to apply a series of functions toa a DF or series in pipeline, quite similar to `%>%` in R. It helps to make the code more readable and maintainable by chaining operations together.\n",
    "\n",
    "For example, let's assume the columns of a dataset are not in the correct scale, and I have to perform a series of operations to clean the data."
   ]
  },
  {
   "cell_type": "code",
   "execution_count": 17,
   "id": "f222c8f5-82d7-4567-a836-7d35df8fb855",
   "metadata": {},
   "outputs": [],
   "source": [
    "# Sample data\n",
    "data = pd.DataFrame({\n",
    "    'A': [10, 20, 30], \n",
    "    'B': [1, 2, 3],\n",
    "})"
   ]
  },
  {
   "cell_type": "code",
   "execution_count": 18,
   "id": "fb84c36c-14eb-41b0-a0e8-17529ce1f000",
   "metadata": {},
   "outputs": [
    {
     "data": {
      "text/html": [
       "<div>\n",
       "<style scoped>\n",
       "    .dataframe tbody tr th:only-of-type {\n",
       "        vertical-align: middle;\n",
       "    }\n",
       "\n",
       "    .dataframe tbody tr th {\n",
       "        vertical-align: top;\n",
       "    }\n",
       "\n",
       "    .dataframe thead th {\n",
       "        text-align: right;\n",
       "    }\n",
       "</style>\n",
       "<table border=\"1\" class=\"dataframe\">\n",
       "  <thead>\n",
       "    <tr style=\"text-align: right;\">\n",
       "      <th></th>\n",
       "      <th>A</th>\n",
       "      <th>B</th>\n",
       "    </tr>\n",
       "  </thead>\n",
       "  <tbody>\n",
       "    <tr>\n",
       "      <th>0</th>\n",
       "      <td>10</td>\n",
       "      <td>1</td>\n",
       "    </tr>\n",
       "    <tr>\n",
       "      <th>1</th>\n",
       "      <td>20</td>\n",
       "      <td>2</td>\n",
       "    </tr>\n",
       "    <tr>\n",
       "      <th>2</th>\n",
       "      <td>30</td>\n",
       "      <td>3</td>\n",
       "    </tr>\n",
       "  </tbody>\n",
       "</table>\n",
       "</div>"
      ],
      "text/plain": [
       "    A  B\n",
       "0  10  1\n",
       "1  20  2\n",
       "2  30  3"
      ]
     },
     "execution_count": 18,
     "metadata": {},
     "output_type": "execute_result"
    }
   ],
   "source": [
    "data"
   ]
  },
  {
   "cell_type": "code",
   "execution_count": 19,
   "id": "746cefa9-f3d5-4941-9443-bbf3fa15085c",
   "metadata": {},
   "outputs": [],
   "source": [
    "# Definition of functions\n",
    "def multiply(df):\n",
    "    df['A'] *= 100\n",
    "    return df\n",
    "\n",
    "def add(df):\n",
    "    df['B'] = df['B'] + 10\n",
    "    return df"
   ]
  },
  {
   "cell_type": "code",
   "execution_count": 20,
   "id": "ab8da2b8-f4ae-42af-b09d-f3147e7417fb",
   "metadata": {},
   "outputs": [
    {
     "name": "stdout",
     "output_type": "stream",
     "text": [
      "      A   B\n",
      "0  1000  11\n",
      "1  2000  12\n",
      "2  3000  13\n"
     ]
    }
   ],
   "source": [
    "# Adding 10 to values in B and multiplying values in A with 100\n",
    "data.pipe(multiply) \\\n",
    "    .pipe(add) \\\n",
    "    .pipe(print)\n",
    "\n",
    "# Both operations have been applied on the data in a single chain operation"
   ]
  },
  {
   "cell_type": "markdown",
   "id": "6379fe26-618b-406c-a638-1455906c2733",
   "metadata": {},
   "source": [
    "## 4. pd.crosstab()\n",
    "This function is one to use when working with categorical data. It generates a table that displays the frequency distribution of the intersection between two or more categorical variables.\n",
    "The frequency it displays can either be the count of occurrences of combinations of values or proportions representing the data in term of percentage or relative frequency.\n",
    "\n",
    "Let's assume I have a dataset containing road accident information with a gender column and an accident severity column, and I want to find information sucha as, \"Are men involved in more serious accidents than woment?\",  This is an approach that can be used to answer the question."
   ]
  },
  {
   "cell_type": "code",
   "execution_count": 27,
   "id": "e78c06c8-722c-413e-af9c-d890a4c64452",
   "metadata": {},
   "outputs": [],
   "source": [
    "# Sample data\n",
    "data = {\n",
    "    'Accident_ID': range(1, 41),\n",
    "    'Gender': ['M', 'M', 'M', 'F', 'M', 'M', 'M', 'F', 'M', 'F',\n",
    "               'M', 'M', 'M', 'F', 'M', 'M', 'M', 'F', 'M', 'F',\n",
    "               'M', 'M', 'M', 'F', 'M', 'M', 'M', 'F', 'M', 'F',\n",
    "               'M', 'F', 'M', 'F', 'M', 'F', 'M', 'M', 'M', 'F'],\n",
    "    'Severity': ['Slight', 'Serious', 'Fatal', 'Slight', 'Serious', 'Fatal', 'Slight', 'Serious', 'Fatal', 'Slight',\n",
    "                 'Slight', 'Serious', 'Fatal', 'Slight', 'Serious', 'Fatal', 'Slight', 'Serious', 'Fatal', 'Slight',\n",
    "                 'Slight', 'Serious', 'Fatal', 'Slight', 'Serious', 'Fatal', 'Slight', 'Serious', 'Fatal', 'Slight',\n",
    "                 'Serious', 'Fatal', 'Slight', 'Serious', 'Fatal', 'Slight', 'Serious', 'Fatal', 'Slight', 'Serious']\n",
    "}\n"
   ]
  },
  {
   "cell_type": "code",
   "execution_count": 29,
   "id": "c48f7a5f-05f7-4aa6-b3d9-e9217d7bca09",
   "metadata": {},
   "outputs": [
    {
     "data": {
      "text/html": [
       "<div>\n",
       "<style scoped>\n",
       "    .dataframe tbody tr th:only-of-type {\n",
       "        vertical-align: middle;\n",
       "    }\n",
       "\n",
       "    .dataframe tbody tr th {\n",
       "        vertical-align: top;\n",
       "    }\n",
       "\n",
       "    .dataframe thead th {\n",
       "        text-align: right;\n",
       "    }\n",
       "</style>\n",
       "<table border=\"1\" class=\"dataframe\">\n",
       "  <thead>\n",
       "    <tr style=\"text-align: right;\">\n",
       "      <th></th>\n",
       "      <th>Accident_ID</th>\n",
       "      <th>Gender</th>\n",
       "      <th>Severity</th>\n",
       "    </tr>\n",
       "  </thead>\n",
       "  <tbody>\n",
       "    <tr>\n",
       "      <th>0</th>\n",
       "      <td>1</td>\n",
       "      <td>M</td>\n",
       "      <td>Slight</td>\n",
       "    </tr>\n",
       "    <tr>\n",
       "      <th>1</th>\n",
       "      <td>2</td>\n",
       "      <td>M</td>\n",
       "      <td>Serious</td>\n",
       "    </tr>\n",
       "    <tr>\n",
       "      <th>2</th>\n",
       "      <td>3</td>\n",
       "      <td>M</td>\n",
       "      <td>Fatal</td>\n",
       "    </tr>\n",
       "  </tbody>\n",
       "</table>\n",
       "</div>"
      ],
      "text/plain": [
       "   Accident_ID Gender Severity\n",
       "0            1      M   Slight\n",
       "1            2      M  Serious\n",
       "2            3      M    Fatal"
      ]
     },
     "execution_count": 29,
     "metadata": {},
     "output_type": "execute_result"
    }
   ],
   "source": [
    "# Create DataFrame\n",
    "df = pd.DataFrame(data)\n",
    "df.head(3)"
   ]
  },
  {
   "cell_type": "code",
   "execution_count": 34,
   "id": "b04ab259-da24-42a7-a37f-ef8ed705917c",
   "metadata": {},
   "outputs": [
    {
     "data": {
      "text/html": [
       "<div>\n",
       "<style scoped>\n",
       "    .dataframe tbody tr th:only-of-type {\n",
       "        vertical-align: middle;\n",
       "    }\n",
       "\n",
       "    .dataframe tbody tr th {\n",
       "        vertical-align: top;\n",
       "    }\n",
       "\n",
       "    .dataframe thead th {\n",
       "        text-align: right;\n",
       "    }\n",
       "</style>\n",
       "<table border=\"1\" class=\"dataframe\">\n",
       "  <thead>\n",
       "    <tr style=\"text-align: right;\">\n",
       "      <th>Gender</th>\n",
       "      <th>Severity</th>\n",
       "      <th>F</th>\n",
       "      <th>M</th>\n",
       "    </tr>\n",
       "  </thead>\n",
       "  <tbody>\n",
       "    <tr>\n",
       "      <th>0</th>\n",
       "      <td>Fatal</td>\n",
       "      <td>1</td>\n",
       "      <td>11</td>\n",
       "    </tr>\n",
       "    <tr>\n",
       "      <th>1</th>\n",
       "      <td>Serious</td>\n",
       "      <td>5</td>\n",
       "      <td>8</td>\n",
       "    </tr>\n",
       "    <tr>\n",
       "      <th>2</th>\n",
       "      <td>Slight</td>\n",
       "      <td>7</td>\n",
       "      <td>8</td>\n",
       "    </tr>\n",
       "  </tbody>\n",
       "</table>\n",
       "</div>"
      ],
      "text/plain": [
       "Gender Severity  F   M\n",
       "0         Fatal  1  11\n",
       "1       Serious  5   8\n",
       "2        Slight  7   8"
      ]
     },
     "execution_count": 34,
     "metadata": {},
     "output_type": "execute_result"
    }
   ],
   "source": [
    "# Give the frequency as count of occurence\n",
    "crossdf = pd.crosstab(df['Severity'], df['Gender'])\n",
    "crossdf = crossdf.reset_index()\n",
    "crossdf"
   ]
  },
  {
   "cell_type": "code",
   "execution_count": 35,
   "id": "b94b47ff-dd51-4411-840b-7bad3fc3d4d4",
   "metadata": {},
   "outputs": [
    {
     "data": {
      "text/html": [
       "<div>\n",
       "<style scoped>\n",
       "    .dataframe tbody tr th:only-of-type {\n",
       "        vertical-align: middle;\n",
       "    }\n",
       "\n",
       "    .dataframe tbody tr th {\n",
       "        vertical-align: top;\n",
       "    }\n",
       "\n",
       "    .dataframe thead th {\n",
       "        text-align: right;\n",
       "    }\n",
       "</style>\n",
       "<table border=\"1\" class=\"dataframe\">\n",
       "  <thead>\n",
       "    <tr style=\"text-align: right;\">\n",
       "      <th>Gender</th>\n",
       "      <th>Severity</th>\n",
       "      <th>F</th>\n",
       "      <th>M</th>\n",
       "    </tr>\n",
       "  </thead>\n",
       "  <tbody>\n",
       "    <tr>\n",
       "      <th>0</th>\n",
       "      <td>Fatal</td>\n",
       "      <td>0.083333</td>\n",
       "      <td>0.916667</td>\n",
       "    </tr>\n",
       "    <tr>\n",
       "      <th>1</th>\n",
       "      <td>Serious</td>\n",
       "      <td>0.384615</td>\n",
       "      <td>0.615385</td>\n",
       "    </tr>\n",
       "    <tr>\n",
       "      <th>2</th>\n",
       "      <td>Slight</td>\n",
       "      <td>0.466667</td>\n",
       "      <td>0.533333</td>\n",
       "    </tr>\n",
       "  </tbody>\n",
       "</table>\n",
       "</div>"
      ],
      "text/plain": [
       "Gender Severity         F         M\n",
       "0         Fatal  0.083333  0.916667\n",
       "1       Serious  0.384615  0.615385\n",
       "2        Slight  0.466667  0.533333"
      ]
     },
     "execution_count": 35,
     "metadata": {},
     "output_type": "execute_result"
    }
   ],
   "source": [
    "# Gives frequency as proportion\n",
    "crossdf = pd.crosstab(df['Severity'], df['Gender'], normalize = 'index')\n",
    "crossdf = crossdf.reset_index()\n",
    "crossdf"
   ]
  },
  {
   "cell_type": "markdown",
   "id": "1ab24539-6199-40f0-8c77-572b9de1eb98",
   "metadata": {},
   "source": [
    "## .pct_change()\n",
    "This function calculates the percentage change between the current and a prior element along a given axis. It is useful for analysing the relative changes in data, such as financial or time series data.\n",
    "A relatively simple but very useful function used in trend analysis to show changes over time. Let's assume we have a dataset containing monthly sales figures. Here's how we can calculate the % change."
   ]
  },
  {
   "cell_type": "code",
   "execution_count": 36,
   "id": "a090f22e-d0ca-4406-bde2-fb0e73d739ad",
   "metadata": {},
   "outputs": [],
   "source": [
    "data = pd.DataFrame({\n",
    "    'Month': ['Jan', 'Feb', 'Mar', 'Apr', 'May'],\n",
    "    'Sales': [2000, 2200, 2100, 2500, 2700]\n",
    "})"
   ]
  },
  {
   "cell_type": "code",
   "execution_count": 37,
   "id": "1ec18646-d50f-4f3b-96e9-4d6dda9a3fa0",
   "metadata": {},
   "outputs": [],
   "source": [
    "# Set month as index\n",
    "data.set_index('Month', inplace=True)"
   ]
  },
  {
   "cell_type": "code",
   "execution_count": 40,
   "id": "80d05f14-d349-4bd9-b84f-ee012fc2501a",
   "metadata": {},
   "outputs": [
    {
     "data": {
      "text/html": [
       "<div>\n",
       "<style scoped>\n",
       "    .dataframe tbody tr th:only-of-type {\n",
       "        vertical-align: middle;\n",
       "    }\n",
       "\n",
       "    .dataframe tbody tr th {\n",
       "        vertical-align: top;\n",
       "    }\n",
       "\n",
       "    .dataframe thead th {\n",
       "        text-align: right;\n",
       "    }\n",
       "</style>\n",
       "<table border=\"1\" class=\"dataframe\">\n",
       "  <thead>\n",
       "    <tr style=\"text-align: right;\">\n",
       "      <th></th>\n",
       "      <th>Sales</th>\n",
       "      <th>Sales Change (%)</th>\n",
       "    </tr>\n",
       "    <tr>\n",
       "      <th>Month</th>\n",
       "      <th></th>\n",
       "      <th></th>\n",
       "    </tr>\n",
       "  </thead>\n",
       "  <tbody>\n",
       "    <tr>\n",
       "      <th>Jan</th>\n",
       "      <td>2000</td>\n",
       "      <td>NaN</td>\n",
       "    </tr>\n",
       "    <tr>\n",
       "      <th>Feb</th>\n",
       "      <td>2200</td>\n",
       "      <td>10.00</td>\n",
       "    </tr>\n",
       "    <tr>\n",
       "      <th>Mar</th>\n",
       "      <td>2100</td>\n",
       "      <td>-4.55</td>\n",
       "    </tr>\n",
       "    <tr>\n",
       "      <th>Apr</th>\n",
       "      <td>2500</td>\n",
       "      <td>19.05</td>\n",
       "    </tr>\n",
       "    <tr>\n",
       "      <th>May</th>\n",
       "      <td>2700</td>\n",
       "      <td>8.00</td>\n",
       "    </tr>\n",
       "  </tbody>\n",
       "</table>\n",
       "</div>"
      ],
      "text/plain": [
       "       Sales  Sales Change (%)\n",
       "Month                         \n",
       "Jan     2000               NaN\n",
       "Feb     2200             10.00\n",
       "Mar     2100             -4.55\n",
       "Apr     2500             19.05\n",
       "May     2700              8.00"
      ]
     },
     "execution_count": 40,
     "metadata": {},
     "output_type": "execute_result"
    }
   ],
   "source": [
    "# Calculate percentage change\n",
    "data['Sales Change (%)'] = round((data['Sales'].pct_change() * 100), 2)\n",
    "# Each row in the Sales change column represent by how much sales figures incresed since last month\n",
    "data"
   ]
  },
  {
   "cell_type": "markdown",
   "id": "8adae0b8-8170-4dbf-a30b-297c38e1b93b",
   "metadata": {},
   "source": [
    "## 6. .get_dummies()\n",
    "This function is used to convert categorical data into a format that can be fed into a ML algorithm for data modelling, a technique popularly knowh as \"one-hot encoding\". This is typically done by converting categorical variables into a series of binary (0, 1) or boolean (T, F) columns.\n",
    "\n",
    "If tempted to ask of what use is this when sckikit-learn has a label encoder function that performs similar tasks, thses two functions are quite different. . get_dummies() is preferred for non-ordinal data since it avoids implying any order among categories. On the other hand, LabelEncoder is a more compact and suitable for ordinal data such as education level which has an ordered relationship (Middle School - Hich School - University).\n",
    "\n",
    "Let's assume I have column continaing answers to a question whcih is either y/n, .get_dummies() will create new columns, one for each category. Each row in these new columns will have a 1 in the column correcponding to its category and 0 int he others."
   ]
  },
  {
   "cell_type": "code",
   "execution_count": 41,
   "id": "b9dca279-19a6-4b01-a3ff-06152155c67c",
   "metadata": {},
   "outputs": [],
   "source": [
    "# Sample DF with a categorical column\n",
    "data = pd.DataFrame({\n",
    "    'Answer': ['yes', 'no', 'no', 'yes', 'no']\n",
    "})"
   ]
  },
  {
   "cell_type": "code",
   "execution_count": 42,
   "id": "7d882c84-0574-4d61-9cdb-cd2901d4bada",
   "metadata": {},
   "outputs": [],
   "source": [
    "# Convert categorical column to dummy variables\n",
    "dummies = pd.get_dummies(data['Answer'])"
   ]
  },
  {
   "cell_type": "code",
   "execution_count": 43,
   "id": "03c0b3dd-ad99-4bf7-9bc7-6c0e2536c2b6",
   "metadata": {},
   "outputs": [
    {
     "data": {
      "text/html": [
       "<div>\n",
       "<style scoped>\n",
       "    .dataframe tbody tr th:only-of-type {\n",
       "        vertical-align: middle;\n",
       "    }\n",
       "\n",
       "    .dataframe tbody tr th {\n",
       "        vertical-align: top;\n",
       "    }\n",
       "\n",
       "    .dataframe thead th {\n",
       "        text-align: right;\n",
       "    }\n",
       "</style>\n",
       "<table border=\"1\" class=\"dataframe\">\n",
       "  <thead>\n",
       "    <tr style=\"text-align: right;\">\n",
       "      <th></th>\n",
       "      <th>no</th>\n",
       "      <th>yes</th>\n",
       "    </tr>\n",
       "  </thead>\n",
       "  <tbody>\n",
       "    <tr>\n",
       "      <th>0</th>\n",
       "      <td>False</td>\n",
       "      <td>True</td>\n",
       "    </tr>\n",
       "    <tr>\n",
       "      <th>1</th>\n",
       "      <td>True</td>\n",
       "      <td>False</td>\n",
       "    </tr>\n",
       "    <tr>\n",
       "      <th>2</th>\n",
       "      <td>True</td>\n",
       "      <td>False</td>\n",
       "    </tr>\n",
       "    <tr>\n",
       "      <th>3</th>\n",
       "      <td>False</td>\n",
       "      <td>True</td>\n",
       "    </tr>\n",
       "    <tr>\n",
       "      <th>4</th>\n",
       "      <td>True</td>\n",
       "      <td>False</td>\n",
       "    </tr>\n",
       "  </tbody>\n",
       "</table>\n",
       "</div>"
      ],
      "text/plain": [
       "      no    yes\n",
       "0  False   True\n",
       "1   True  False\n",
       "2   True  False\n",
       "3  False   True\n",
       "4   True  False"
      ]
     },
     "execution_count": 43,
     "metadata": {},
     "output_type": "execute_result"
    }
   ],
   "source": [
    "dummies"
   ]
  },
  {
   "cell_type": "markdown",
   "id": "7bf48840-3ede-44b1-b77d-7b879f9e91de",
   "metadata": {},
   "source": [
    "## 7. .combine_first()\n",
    "It is used to combine two dfs by filling in missing values  in ona df with values from another. It's partivcularly useful when you have 2 datsets that complement each other and wnat to create a complete dataset by merging them.\n",
    "\n",
    "Quite similar to the .merge() function, one of the differences it that it automatically includes all distingc columns from both dfs and aligns them based on their common columns, filling missing values int he first df with corresponding values from the second. It can be used interchangeably with .merge() depending on your use case.\n",
    "\n",
    "Now, let's assume a company that collects employee performance data from two departments, HR and Sales. Both departments track employee data, but they focus on different aspects. If I want to analyze HR data but discover some values were missing and I also need additional information from Sales."
   ]
  },
  {
   "cell_type": "code",
   "execution_count": 44,
   "id": "6d76aca1-c21e-4605-bba8-5666ea1ffdaf",
   "metadata": {},
   "outputs": [
    {
     "data": {
      "text/html": [
       "<div>\n",
       "<style scoped>\n",
       "    .dataframe tbody tr th:only-of-type {\n",
       "        vertical-align: middle;\n",
       "    }\n",
       "\n",
       "    .dataframe tbody tr th {\n",
       "        vertical-align: top;\n",
       "    }\n",
       "\n",
       "    .dataframe thead th {\n",
       "        text-align: right;\n",
       "    }\n",
       "</style>\n",
       "<table border=\"1\" class=\"dataframe\">\n",
       "  <thead>\n",
       "    <tr style=\"text-align: right;\">\n",
       "      <th></th>\n",
       "      <th>EmployeeID</th>\n",
       "      <th>Name</th>\n",
       "      <th>Department</th>\n",
       "      <th>Salary</th>\n",
       "    </tr>\n",
       "  </thead>\n",
       "  <tbody>\n",
       "    <tr>\n",
       "      <th>0</th>\n",
       "      <td>101</td>\n",
       "      <td>Alice</td>\n",
       "      <td>HR</td>\n",
       "      <td>60000</td>\n",
       "    </tr>\n",
       "    <tr>\n",
       "      <th>1</th>\n",
       "      <td>102</td>\n",
       "      <td>Bob</td>\n",
       "      <td>Sales</td>\n",
       "      <td>55000</td>\n",
       "    </tr>\n",
       "    <tr>\n",
       "      <th>2</th>\n",
       "      <td>103</td>\n",
       "      <td>Charlie</td>\n",
       "      <td>HR</td>\n",
       "      <td>58000</td>\n",
       "    </tr>\n",
       "    <tr>\n",
       "      <th>3</th>\n",
       "      <td>104</td>\n",
       "      <td>David</td>\n",
       "      <td>None</td>\n",
       "      <td>62000</td>\n",
       "    </tr>\n",
       "  </tbody>\n",
       "</table>\n",
       "</div>"
      ],
      "text/plain": [
       "   EmployeeID     Name Department  Salary\n",
       "0         101    Alice         HR   60000\n",
       "1         102      Bob      Sales   55000\n",
       "2         103  Charlie         HR   58000\n",
       "3         104    David       None   62000"
      ]
     },
     "execution_count": 44,
     "metadata": {},
     "output_type": "execute_result"
    }
   ],
   "source": [
    "# HR Data (data1)\n",
    "data1 = pd.DataFrame({\n",
    "    'EmployeeID': [101, 102, 103, 104],\n",
    "    'Name': ['Alice', 'Bob', 'Charlie', 'David'],\n",
    "    'Department': ['HR', 'Sales', 'HR', None],\n",
    "    'Salary': [60000, 55000, 58000, 62000],\n",
    "})\n",
    "data1"
   ]
  },
  {
   "cell_type": "code",
   "execution_count": 45,
   "id": "3929aac3-85e0-42d8-9416-89f73e4980b9",
   "metadata": {},
   "outputs": [
    {
     "data": {
      "text/html": [
       "<div>\n",
       "<style scoped>\n",
       "    .dataframe tbody tr th:only-of-type {\n",
       "        vertical-align: middle;\n",
       "    }\n",
       "\n",
       "    .dataframe tbody tr th {\n",
       "        vertical-align: top;\n",
       "    }\n",
       "\n",
       "    .dataframe thead th {\n",
       "        text-align: right;\n",
       "    }\n",
       "</style>\n",
       "<table border=\"1\" class=\"dataframe\">\n",
       "  <thead>\n",
       "    <tr style=\"text-align: right;\">\n",
       "      <th></th>\n",
       "      <th>EmployeeID</th>\n",
       "      <th>SalesTarget</th>\n",
       "      <th>SalesAchieved</th>\n",
       "      <th>Department</th>\n",
       "    </tr>\n",
       "  </thead>\n",
       "  <tbody>\n",
       "    <tr>\n",
       "      <th>0</th>\n",
       "      <td>101</td>\n",
       "      <td>50000</td>\n",
       "      <td>48000</td>\n",
       "      <td>HR</td>\n",
       "    </tr>\n",
       "    <tr>\n",
       "      <th>1</th>\n",
       "      <td>102</td>\n",
       "      <td>70000</td>\n",
       "      <td>75000</td>\n",
       "      <td>None</td>\n",
       "    </tr>\n",
       "    <tr>\n",
       "      <th>2</th>\n",
       "      <td>104</td>\n",
       "      <td>65000</td>\n",
       "      <td>66000</td>\n",
       "      <td>Sales</td>\n",
       "    </tr>\n",
       "    <tr>\n",
       "      <th>3</th>\n",
       "      <td>105</td>\n",
       "      <td>80000</td>\n",
       "      <td>81000</td>\n",
       "      <td>Sales</td>\n",
       "    </tr>\n",
       "  </tbody>\n",
       "</table>\n",
       "</div>"
      ],
      "text/plain": [
       "   EmployeeID  SalesTarget  SalesAchieved Department\n",
       "0         101        50000          48000         HR\n",
       "1         102        70000          75000       None\n",
       "2         104        65000          66000      Sales\n",
       "3         105        80000          81000      Sales"
      ]
     },
     "execution_count": 45,
     "metadata": {},
     "output_type": "execute_result"
    }
   ],
   "source": [
    "# Sales Data (data2)\n",
    "data2 = pd.DataFrame({\n",
    "    'EmployeeID': [101, 102, 104, 105],\n",
    "    'SalesTarget': [50000, 70000, 65000, 80000],\n",
    "    'SalesAchieved': [48000, 75000, 66000, 81000],\n",
    "    'Department': ['HR', None, 'Sales', 'Sales']\n",
    "})\n",
    "data2"
   ]
  },
  {
   "cell_type": "code",
   "execution_count": 50,
   "id": "8c199ec4-ab5c-4f07-9574-a7cca4df11c3",
   "metadata": {},
   "outputs": [
    {
     "data": {
      "text/html": [
       "<div>\n",
       "<style scoped>\n",
       "    .dataframe tbody tr th:only-of-type {\n",
       "        vertical-align: middle;\n",
       "    }\n",
       "\n",
       "    .dataframe tbody tr th {\n",
       "        vertical-align: top;\n",
       "    }\n",
       "\n",
       "    .dataframe thead th {\n",
       "        text-align: right;\n",
       "    }\n",
       "</style>\n",
       "<table border=\"1\" class=\"dataframe\">\n",
       "  <thead>\n",
       "    <tr style=\"text-align: right;\">\n",
       "      <th></th>\n",
       "      <th>EmployeeID</th>\n",
       "      <th>Department</th>\n",
       "      <th>Name</th>\n",
       "      <th>Salary</th>\n",
       "      <th>SalesAchieved</th>\n",
       "      <th>SalesTarget</th>\n",
       "    </tr>\n",
       "  </thead>\n",
       "  <tbody>\n",
       "    <tr>\n",
       "      <th>0</th>\n",
       "      <td>101</td>\n",
       "      <td>HR</td>\n",
       "      <td>Alice</td>\n",
       "      <td>60000.0</td>\n",
       "      <td>48000.0</td>\n",
       "      <td>50000.0</td>\n",
       "    </tr>\n",
       "    <tr>\n",
       "      <th>1</th>\n",
       "      <td>102</td>\n",
       "      <td>Sales</td>\n",
       "      <td>Bob</td>\n",
       "      <td>55000.0</td>\n",
       "      <td>75000.0</td>\n",
       "      <td>70000.0</td>\n",
       "    </tr>\n",
       "    <tr>\n",
       "      <th>2</th>\n",
       "      <td>103</td>\n",
       "      <td>HR</td>\n",
       "      <td>Charlie</td>\n",
       "      <td>58000.0</td>\n",
       "      <td>NaN</td>\n",
       "      <td>NaN</td>\n",
       "    </tr>\n",
       "    <tr>\n",
       "      <th>3</th>\n",
       "      <td>104</td>\n",
       "      <td>Sales</td>\n",
       "      <td>David</td>\n",
       "      <td>62000.0</td>\n",
       "      <td>66000.0</td>\n",
       "      <td>65000.0</td>\n",
       "    </tr>\n",
       "    <tr>\n",
       "      <th>4</th>\n",
       "      <td>105</td>\n",
       "      <td>Sales</td>\n",
       "      <td>NaN</td>\n",
       "      <td>NaN</td>\n",
       "      <td>81000.0</td>\n",
       "      <td>80000.0</td>\n",
       "    </tr>\n",
       "  </tbody>\n",
       "</table>\n",
       "</div>"
      ],
      "text/plain": [
       "   EmployeeID Department     Name   Salary  SalesAchieved  SalesTarget\n",
       "0         101         HR    Alice  60000.0        48000.0      50000.0\n",
       "1         102      Sales      Bob  55000.0        75000.0      70000.0\n",
       "2         103         HR  Charlie  58000.0            NaN          NaN\n",
       "3         104      Sales    David  62000.0        66000.0      65000.0\n",
       "4         105      Sales      NaN      NaN        81000.0      80000.0"
      ]
     },
     "execution_count": 50,
     "metadata": {},
     "output_type": "execute_result"
    }
   ],
   "source": [
    "# Comine using combine_first()\n",
    "combined_data = data1.set_index('EmployeeID').combine_first(data2.set_index('EmployeeID')).reset_index()\n",
    "combined_data"
   ]
  },
  {
   "cell_type": "code",
   "execution_count": null,
   "id": "65e1c853-155f-4e8a-91dd-f6c547de369d",
   "metadata": {},
   "outputs": [],
   "source": []
  }
 ],
 "metadata": {
  "kernelspec": {
   "display_name": "Python 3 (ipykernel)",
   "language": "python",
   "name": "python3"
  },
  "language_info": {
   "codemirror_mode": {
    "name": "ipython",
    "version": 3
   },
   "file_extension": ".py",
   "mimetype": "text/x-python",
   "name": "python",
   "nbconvert_exporter": "python",
   "pygments_lexer": "ipython3",
   "version": "3.12.5"
  }
 },
 "nbformat": 4,
 "nbformat_minor": 5
}
